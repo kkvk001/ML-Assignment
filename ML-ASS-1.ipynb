{
 "cells": [
  {
   "cell_type": "markdown",
   "id": "594cd361",
   "metadata": {},
   "source": [
    "# 1. What does one mean by the term machine learning?"
   ]
  },
  {
   "cell_type": "markdown",
   "id": "4865ed04",
   "metadata": {},
   "source": [
    "When most people hear “Machine Learning,” they picture a robot.\n",
    "Machine Learning is the science (and art) of programming computers so they can\n",
    "learn from data or some other defintion as a [Machine Learning] is the field of study that gives computers the ability to learn\n",
    "without being explicitly programmed."
   ]
  },
  {
   "cell_type": "markdown",
   "id": "1f19f096",
   "metadata": {},
   "source": [
    "# 2.Can you think of 4 distinct types of issues where it shines?"
   ]
  },
  {
   "cell_type": "markdown",
   "id": "71a82987",
   "metadata": {},
   "source": [
    "Machine learning algorithms have had good results on problems such has spam detection in email, cancer diagnosis,\n",
    "fraudulent credit card transactions, and automatically driving vehicles."
   ]
  },
  {
   "cell_type": "markdown",
   "id": "5b2c0794",
   "metadata": {},
   "source": [
    "# 3.What is a labeled training set, and how does it work?"
   ]
  },
  {
   "cell_type": "code",
   "execution_count": null,
   "id": "b07942ef",
   "metadata": {},
   "outputs": [],
   "source": [
    "The training set is used to train the algorithm,and then you use the trained model on the test set to predict the response\n",
    "variable values that are already known.\n",
    "The final step is to compare the predicted responses against the actual  responses to see how close they are."
   ]
  },
  {
   "cell_type": "markdown",
   "id": "3dd6ee51",
   "metadata": {},
   "source": [
    "# 4.What are the two most important tasks that are supervised?"
   ]
  },
  {
   "cell_type": "markdown",
   "id": "4cac2a4b",
   "metadata": {},
   "source": [
    "The two most common supervised tasks are regression and classification."
   ]
  },
  {
   "cell_type": "markdown",
   "id": "f56ea963",
   "metadata": {},
   "source": [
    "# 5.Can you think of four examples of unsupervised tasks?"
   ]
  },
  {
   "cell_type": "markdown",
   "id": "ab145487",
   "metadata": {},
   "source": [
    "the four examples of unsupervised tasks are as clustering, visualization, dimensionality reduction, and association rule learning."
   ]
  },
  {
   "cell_type": "markdown",
   "id": "094ae9d6",
   "metadata": {},
   "source": [
    "# 6.State the machine learning model that would be best to make a robot walk through various unfamiliar terrains?\n"
   ]
  },
  {
   "cell_type": "markdown",
   "id": "a361ecc5",
   "metadata": {},
   "source": [
    "The best Machine Learning algorithm to allow a robot to walk in unknown terrain is Reinforced Learning."
   ]
  },
  {
   "cell_type": "markdown",
   "id": "5d798fee",
   "metadata": {},
   "source": [
    "# 7.Which algorithm will you use to divide your customers into different groups?"
   ]
  },
  {
   "cell_type": "markdown",
   "id": "8f0603af",
   "metadata": {},
   "source": [
    "K-means clustering is a popular unsupervised machine learning algorithm method. In layman terms, it finds all of the different\n",
    "“clusters” and groups them together while keeping them as small as possible. "
   ]
  },
  {
   "cell_type": "markdown",
   "id": "74e124eb",
   "metadata": {},
   "source": [
    "# 8.Will you consider the problem of spam detection to be a supervised or unsupervised learning problem?"
   ]
  },
  {
   "cell_type": "markdown",
   "id": "8b6e49ce",
   "metadata": {},
   "source": [
    " Spam detection is a supervised machine learning problem. "
   ]
  },
  {
   "cell_type": "markdown",
   "id": "4e3ae8d9",
   "metadata": {},
   "source": [
    "# 9.What is the concept of an online learning system?"
   ]
  },
  {
   "cell_type": "markdown",
   "id": "31a39366",
   "metadata": {},
   "source": [
    "A learning system based on formalised teaching but with the help of electronic resources is known as E-learning.\n",
    "While teaching can be based in or out of the classrooms, the use of computers and the Internet forms the major component\n",
    "of E-learning."
   ]
  },
  {
   "cell_type": "markdown",
   "id": "0a29c383",
   "metadata": {},
   "source": [
    "# 10.What is out-of-core learning, and how does it differ from core learning?"
   ]
  },
  {
   "cell_type": "markdown",
   "id": "a43ce943",
   "metadata": {},
   "source": [
    "Out-of-core learning refers to a set of algorithms working with data that cannot fit into the memory of a single computer,\n",
    "but that can easily fit into some data storage such as a local hard disk or web repository.\n",
    "Out-of-core (or “external memory”) learning is a technique used to learn from data that cannot fit in a computer's main memory \n",
    "(RAM)"
   ]
  },
  {
   "cell_type": "markdown",
   "id": "7383d91e",
   "metadata": {},
   "source": [
    "# 11.What kind of learning algorithm makes predictions using a similarity measure?"
   ]
  },
  {
   "cell_type": "markdown",
   "id": "59ccbbb5",
   "metadata": {},
   "source": [
    "Instance-based learning algorithms use a measure of similarity to generalize to new cases. In an instance-based learning system,\n",
    "the algorithm learns the examples by heart, then uses the similarity measure to generalize."
   ]
  },
  {
   "cell_type": "markdown",
   "id": "eac9886c",
   "metadata": {},
   "source": [
    "# 12.What is the difference between a model parameter and a hyperparameter in a learning algorithm?"
   ]
  },
  {
   "cell_type": "markdown",
   "id": "8e8d3aae",
   "metadata": {},
   "source": [
    "A hyperparameter is a parameter of the learning algorithm, not the model. For example, in a simple linear regression problem our model is parameterized by theta which is a vector of weights. In order to find the best values for theta we have a cost function which is run repeatedly by the gradient descent algorithm. Gradient descent has a hyperparameter called alpha which is the learning rate of the algorithm"
   ]
  },
  {
   "cell_type": "markdown",
   "id": "fdc6cac5",
   "metadata": {},
   "source": [
    "# 13.What are the criteria that model-based learning algorithms look for? What is the most popular method they use to achieve success? What method do they use to make predictions?"
   ]
  },
  {
   "cell_type": "markdown",
   "id": "613f64de",
   "metadata": {},
   "source": [
    "The goal for a model-based algorithm is to be able to generalize to new examples. To do this, model based algorithms search for optimal values for the model's parameters, often called theta. This searching, or \"learning\", is what machine learning is all about. Model-based system learn by minimizing a cost function that measures how bad the system is at making predicitons on new data, plus a penalty for model complexity if the model is regularized. To make a prediction, a new instance's features are fed into a hypothesis function which uses the minimized theta found by repeatedly running the cost function."
   ]
  },
  {
   "cell_type": "markdown",
   "id": "79cefd7d",
   "metadata": {},
   "source": [
    "# 14.Can you name four of the most important Machine Learning challenges?"
   ]
  },
  {
   "cell_type": "markdown",
   "id": "c9d73a59",
   "metadata": {},
   "source": [
    "1.Not gathering enough data, or sampling noise. Sampling noise means we'll have non-representative data as a result of chance.\n",
    "\n",
    "2.Using a dataset that is not representative of the cases you want to generalize to. This is called sampling bias. For example, if you want to train an algorithm with \"cat videos\", and all your videos are from YouTube, you're actually training an algorithm to learn about \"YouTube cat videos.\"\n",
    "\n",
    "3.Your dataset is full of missing values, outliers, and noise (poor measurments).\n",
    "\n",
    "4.The features in your dataset are irrelevant. Garbage in, garbage out.\n",
    "\n",
    "Feature selection - choose the most relevant features from your dataset\n",
    "Feature extraction - combine features in your dataset to generate a new, more useful feature"
   ]
  },
  {
   "cell_type": "markdown",
   "id": "112b7d42",
   "metadata": {},
   "source": [
    "# 15.What happens if the model performs well on the training data but fails to generalize the results to new situations? Can you think of three different options?"
   ]
  },
  {
   "cell_type": "markdown",
   "id": "7201edca",
   "metadata": {},
   "source": [
    "This is a case where the model is overfitting the training data. To overcome overfitting, we can reduce the complexity of the model by removing features or constraining the parameters. We could gather more data. Finally we can reduce noisiness in the data by fixing errors and removing outliers."
   ]
  },
  {
   "cell_type": "markdown",
   "id": "89d8cf33",
   "metadata": {},
   "source": [
    "# 16.What exactly is a test set, and why would you need one?"
   ]
  },
  {
   "cell_type": "markdown",
   "id": "255175fb",
   "metadata": {},
   "source": [
    "When we want to know how well our model generalizes to new cases we prefer to use a test set instead of actually deploying the system. To build the test set we split the training data (50-50, 60-40, 80-20 are common splits) into a training set and test set. Our model is training with the training set. Then we use the model to run predictions on the test set. Our error rate on the test set is called the generalization error or out-of-sample error. This error tells us how well our model performs on examples it has never seen before."
   ]
  },
  {
   "cell_type": "markdown",
   "id": "a6d16236",
   "metadata": {},
   "source": [
    "# 17.What is a validation set's purpose?"
   ]
  },
  {
   "cell_type": "markdown",
   "id": "e0385291",
   "metadata": {},
   "source": [
    "Let's say we have a linear model and we want to perform some hyperparameter tuning to reduce the generalization error. One way to do this 100 different models with 100 different hyperparameter values using the training set and finding the generalization error with the test set. You find the best hyperparameter value gives you 5% generalization error.\n",
    "\n",
    "So you launch the model into production and find you're seeing 15% generalization error. This isn't going as expected. What happened?\n",
    "\n",
    "The problem is that for each iteration of hyperparameter tuning, you measured the generalization error then updated the model using the same test set. In other words, your produced the best generalization error for the test set. The test set no longer represents cases the model hasn't seen before.\n",
    "\n",
    "A common solution to this problem is to have a second holdout set called the validation set. You train multiple models with various hyperparameters using the training set, you select the model and hyperparameters that perform best on the validation set, and when you are happy about your model you run a single final test against the test set to get an estimate of the generalization error."
   ]
  },
  {
   "cell_type": "markdown",
   "id": "40c7f19f",
   "metadata": {},
   "source": [
    "# 18.What precisely is the train-dev kit, when will you need it, how do you put it to use?"
   ]
  },
  {
   "cell_type": "markdown",
   "id": "a39fb317",
   "metadata": {},
   "source": [
    "The goal of dev-set is to rank the models in term of their accuracy and helps us decide which model to proceed further with. Using Dev set we rank all our models in terms of their accuracy and pick the best performing model."
   ]
  },
  {
   "cell_type": "markdown",
   "id": "188984a7",
   "metadata": {},
   "source": [
    "# 19.What could go wrong if you use the test set to tune hyperparameters?"
   ]
  },
  {
   "cell_type": "markdown",
   "id": "72f56846",
   "metadata": {},
   "source": [
    "Your model will not be generalizable to new examples."
   ]
  }
 ],
 "metadata": {
  "kernelspec": {
   "display_name": "Python 3 (ipykernel)",
   "language": "python",
   "name": "python3"
  },
  "language_info": {
   "codemirror_mode": {
    "name": "ipython",
    "version": 3
   },
   "file_extension": ".py",
   "mimetype": "text/x-python",
   "name": "python",
   "nbconvert_exporter": "python",
   "pygments_lexer": "ipython3",
   "version": "3.9.10"
  }
 },
 "nbformat": 4,
 "nbformat_minor": 5
}
